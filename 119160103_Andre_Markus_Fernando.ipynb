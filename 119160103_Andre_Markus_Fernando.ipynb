{
  "nbformat": 4,
  "nbformat_minor": 0,
  "metadata": {
    "colab": {
      "name": "119160103_Andre Markus Fernando.ipynb",
      "provenance": [],
      "collapsed_sections": [],
      "authorship_tag": "ABX9TyOVSuyeexCfgwwd9kaI1w7L",
      "include_colab_link": true
    },
    "kernelspec": {
      "name": "python3",
      "display_name": "Python 3"
    },
    "language_info": {
      "name": "python"
    }
  },
  "cells": [
    {
      "cell_type": "markdown",
      "metadata": {
        "id": "view-in-github",
        "colab_type": "text"
      },
      "source": [
        "<a href=\"https://colab.research.google.com/github/Andre119160103/Tugas-2_119160103_Andre-Markus-Fernando/blob/main/119160103_Andre_Markus_Fernando.ipynb\" target=\"_parent\"><img src=\"https://colab.research.google.com/assets/colab-badge.svg\" alt=\"Open In Colab\"/></a>"
      ]
    },
    {
      "cell_type": "markdown",
      "source": [
        "ANDRE MARKUS FERNANDO_119160103"
      ],
      "metadata": {
        "id": "AX8w6hwvfnny"
      }
    },
    {
      "cell_type": "markdown",
      "source": [
        ""
      ],
      "metadata": {
        "id": "OUdV4lEff6d8"
      }
    },
    {
      "cell_type": "code",
      "execution_count": 77,
      "metadata": {
        "id": "5s2VrsYsQy43"
      },
      "outputs": [],
      "source": [
        "import numpy as np\n",
        "import matplotlib.pyplot as plt"
      ]
    },
    {
      "cell_type": "markdown",
      "source": [
        "yang diketahui 10 parameter"
      ],
      "metadata": {
        "id": "VF_eiOLOfzj7"
      }
    },
    {
      "cell_type": "code",
      "source": [
        "#10 parameter\n",
        "w111 = 0.15\n",
        "w112 = 0.4\n",
        "w211 = 0.3\n",
        "w212 = 0.45\n",
        "w121 = 0.2\n",
        "w122 = 0.45\n",
        "w221 = 0.2\n",
        "w222 = 0.55\n",
        "b1 = 0.35\n",
        "b2 = 0.6\n",
        "t1 = 0.01\n",
        "t2 = 0.09\n",
        "x1 = 0.05\n",
        "x2 = 0.1\n",
        "a = 0\n",
        "b = 0.5\n",
        "\n",
        "\n"
      ],
      "metadata": {
        "id": "3rPunHVXRDJN"
      },
      "execution_count": 78,
      "outputs": []
    },
    {
      "cell_type": "markdown",
      "source": [
        "Hidden Layer"
      ],
      "metadata": {
        "id": "9-jZ5huof9Wf"
      }
    },
    {
      "cell_type": "code",
      "source": [
        "for j in range(1):\n",
        "  a = a+1\n",
        "  P11 = (w111*x1)+(w121*x2)+b1\n",
        "  P21 = (w211*x1)+(w221*x2)+b1\n",
        "  O11 = (1/(1+np.exp(-P11)))\n",
        "  O21 = (1/(1+np.exp(-P21)))\n",
        "  print(\"P11 =\", P11)\n",
        "  print(\"P21 =\", P21)\n",
        "  print(\"O11 =\", O11)\n",
        "  print(\"O21 =\", O21)\n",
        "  print(\"untuk iterasi ke-\", a)"
      ],
      "metadata": {
        "colab": {
          "base_uri": "https://localhost:8080/"
        },
        "id": "iEfsCkVogbhI",
        "outputId": "3b8af68e-6e45-420e-c96d-764347b2f03c"
      },
      "execution_count": 79,
      "outputs": [
        {
          "output_type": "stream",
          "name": "stdout",
          "text": [
            "P11 = 0.3775\n",
            "P21 = 0.385\n",
            "O11 = 0.5932699921071872\n",
            "O21 = 0.595078473866134\n",
            "untuk iterasi ke- 1\n"
          ]
        }
      ]
    },
    {
      "cell_type": "markdown",
      "source": [
        "Output Layer"
      ],
      "metadata": {
        "id": "GgrPpkNRgGgI"
      }
    },
    {
      "cell_type": "code",
      "source": [
        "for j in range(1):\n",
        "  a = a+1\n",
        "  P12 = (w112*O11)+(w122*O21)+b2\n",
        "  P22 = (w212*O11)+(w222*O21)+b2\n",
        "  O12 = (1/(1+np.exp(-P12)))\n",
        "  O22 = (1/(1+np.exp(-P22)))\n",
        "  print(\"O12 =\", O12)\n",
        "  print(\"O22 =\", O22)\n",
        "  print(\"P12 =\", P12)\n",
        "  print(\"P22 =\", P22)\n",
        "  print(\"untuk iterasi ke-\", a)"
      ],
      "metadata": {
        "colab": {
          "base_uri": "https://localhost:8080/"
        },
        "id": "HdOTaOKJe8-x",
        "outputId": "484eea2d-2f68-4fd2-c69e-9a5d695d8d4a"
      },
      "execution_count": 80,
      "outputs": [
        {
          "output_type": "stream",
          "name": "stdout",
          "text": [
            "O12 = 0.7512132215398881\n",
            "O22 = 0.767502926935868\n",
            "P12 = 1.1050933100826352\n",
            "P22 = 1.194264657074608\n",
            "untuk iterasi ke- 2\n"
          ]
        }
      ]
    },
    {
      "cell_type": "markdown",
      "source": [
        "Error"
      ],
      "metadata": {
        "id": "UHMTuugwg63J"
      }
    },
    {
      "cell_type": "code",
      "source": [
        "E1 = ((t1-O12)**2)/2\n",
        "E2 = ((t2-O22)**2)/2\n",
        "print(\"E1 =\", E1)\n",
        "print(\"E2 =\", E2)"
      ],
      "metadata": {
        "colab": {
          "base_uri": "https://localhost:8080/"
        },
        "id": "T4_JvyVag-pP",
        "outputId": "a93577e3-4771-48fe-eac1-6202aaab7dce"
      },
      "execution_count": 81,
      "outputs": [
        {
          "output_type": "stream",
          "name": "stdout",
          "text": [
            "E1 = 0.2746985198927696\n",
            "E2 = 0.22950510800333404\n"
          ]
        }
      ]
    },
    {
      "cell_type": "markdown",
      "source": [
        "E.total terhadap w112"
      ],
      "metadata": {
        "id": "0ZE0SkgckDBm"
      }
    },
    {
      "cell_type": "code",
      "source": [
        "ET122 = ((-(t2-O22))*(O22*(1-O22))*0)\n",
        "ET212 = ((-(t1-O12))*(O12*(1-O12))*0)\n",
        "ET222 = ((-(t2-O22))*(O22*(1-O22))*O21)\n",
        "print(\"ET112 =\", ET112)\n",
        "print(\"ET212 =\", ET212)\n",
        "print(\"ET222 =\", ET222)\n"
      ],
      "metadata": {
        "colab": {
          "base_uri": "https://localhost:8080/"
        },
        "id": "DU0G9AyUkRkJ",
        "outputId": "51a2840b-4652-4814-8191-b41eac25370a"
      },
      "execution_count": 82,
      "outputs": [
        {
          "output_type": "stream",
          "name": "stdout",
          "text": [
            "ET112 = 0.0\n",
            "ET212 = 0.0\n",
            "ET222 = 0.0719420727981529\n"
          ]
        }
      ]
    },
    {
      "cell_type": "markdown",
      "source": [
        "w122(new),w212(new),dan w222(new)"
      ],
      "metadata": {
        "id": "gsF9i8q-n4sl"
      }
    },
    {
      "cell_type": "code",
      "source": [
        "Nw122 = w122 - b*ET122\n",
        "Nw212 = w212 - b*ET212\n",
        "Nw222 = w222 - b*ET222\n",
        "print(\"Nw122 =\", Nw122)\n",
        "print(\"Nw212 =\", Nw212)\n",
        "print(\"Nw222 =\", Nw222)"
      ],
      "metadata": {
        "colab": {
          "base_uri": "https://localhost:8080/"
        },
        "id": "59zVmE1ioSoL",
        "outputId": "ae5dc0db-7694-4a77-ddf7-c1be327aa115"
      },
      "execution_count": 83,
      "outputs": [
        {
          "output_type": "stream",
          "name": "stdout",
          "text": [
            "Nw122 = 0.45\n",
            "Nw212 = 0.45\n",
            "Nw222 = 0.5140289636009236\n"
          ]
        }
      ]
    },
    {
      "cell_type": "markdown",
      "source": [
        ""
      ],
      "metadata": {
        "id": "IFfMCglJqn43"
      }
    }
  ]
}